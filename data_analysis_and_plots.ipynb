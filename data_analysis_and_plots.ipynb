{
 "cells": [
  {
   "cell_type": "code",
   "execution_count": 2,
   "metadata": {},
   "outputs": [],
   "source": [
    "import numpy as np\n",
    "import matplotlib.pyplot as plt\n",
    "import pandas as pd\n",
    "\n",
    "import oenotebook as oenb\n",
    "import openeye.oechem as oechem\n",
    "\n",
    "from openmoltools.openeye import smiles_to_oemol, generate_conformers, get_charges, molecule_to_mol2\n",
    "from openmoltools.utils import get_checkmol_descriptors\n",
    "import tools as t"
   ]
  },
  {
   "cell_type": "code",
   "execution_count": 3,
   "metadata": {},
   "outputs": [],
   "source": [
    "results = oenb.read_file_to_dataframe(\"results_final.oeb.gz\")\n",
    "#len(results)"
   ]
  },
  {
   "cell_type": "code",
   "execution_count": 4,
   "metadata": {},
   "outputs": [
    {
     "name": "stdout",
     "output_type": "stream",
     "text": [
      "kTlog(gamma)_expt x kTlog(gamma)_calc plot\n",
      "Average error = 0.0687 +- 0.0393\n",
      "RMS = 0.7258 +- 0.0493\n",
      "AUE = 0.4809 +- 0.0337\n",
      "Kendall tau = 0.6656 +- 0.0264\n",
      "Pearson R = 0.9151 +- 0.0111\n"
     ]
    }
   ],
   "source": [
    "data = t.stats_array(results[\"kT log(gamma)_calc (kcal/mol)\"], \n",
    "                     results[\"kT log(gamma)_expt (kcal/mol)\"], \n",
    "                     np.zeros(len(results[\"kT log(gamma)_expt (kcal/mol)\"])), 100, noise=False )\n",
    "print(\"kTlog(gamma)_expt x kTlog(gamma)_calc plot\")\n",
    "print(\"Average error = {:.4f} +- {:.4f}\".format(data[0][0], data[0][1]))\n",
    "print(\"RMS = {:.4f} +- {:.4f}\".format(data[1][0], data[1][1]))\n",
    "print(\"AUE = {:.4f} +- {:.4f}\".format(data[2][0], data[2][1]))\n",
    "print(\"Kendall tau = {:.4f} +- {:.4f}\".format(data[3][0], data[3][1]))\n",
    "print(\"Pearson R = {:.4f} +- {:.4f}\".format(data[4][0], data[4][1]))"
   ]
  },
  {
   "cell_type": "code",
   "execution_count": 5,
   "metadata": {},
   "outputs": [
    {
     "data": {
      "image/png": "[encoded data removed]",
      "text/plain": [
       "<Figure size 252x252 with 1 Axes>"
      ]
     },
     "metadata": {},
     "output_type": "display_data"
    }
   ],
   "source": [
    "fig = plt.figure(figsize=(3.5,3.5))\n",
    "\n",
    "textstring = r\"R = {:.2f}$\\pm${:.2f}\".format(data[4][0], data[4][1])\n",
    "\n",
    "\n",
    "ax = fig.add_subplot(111)\n",
    "points = ax.errorbar(results[\"kT log(gamma)_expt (kcal/mol)\"], results[\"kT log(gamma)_calc (kcal/mol)\"],\n",
    "                     xerr=results[\"kT log(gamma)_expt, error (kcal/mol)\"], \n",
    "                     yerr=results[\"kT log(gamma)_calc, error (kcal/mol)\"],\n",
    "                     fmt = 'o', markersize = 6, markeredgewidth=1.0, markeredgecolor='k',\n",
    "                     color='darkorange',label='_nolegend_')\n",
    "\n",
    "props = dict(boxstyle='round', facecolor='white', alpha=0.5)\n",
    "ax.text(0.05, 0.95, textstring, transform=ax.transAxes, fontsize=8, verticalalignment='top', bbox=props)\n",
    "\n",
    "x = np.arange(-20.,20.,1) # define diagonal\n",
    "\n",
    "ax.plot(x, x,'k-', lw=3)\n",
    "ax.plot(x+0.5,x-0.5,'k:',label=r\"$y=x\\pm1.0\\,kcal\\cdot mol^{-1}$\")\n",
    "ax.plot(x-0.5,x+0.5,'k:')\n",
    "ax.set_xlim([-3.0,8.0])\n",
    "ax.set_ylim([-3.0,8.0])\n",
    "ax.set_xlabel(r\"$k_BT\\ln{\\gamma_{expt}}$ ($kcal\\cdot mol^{-1}$)\", fontsize=8)\n",
    "ax.set_ylabel(r\"$k_BT\\ln{\\gamma_{calc}}$ ($kcal\\cdot mol^{-1}$)\", fontsize=8)\n",
    "ax.legend(loc=4, prop={\"size\":8})\n",
    "\n",
    "plt.tight_layout()\n",
    "plt.savefig(\"expt_x_calc_kTlog_gamma.pdf\")\n",
    "\n",
    "#plt.close()"
   ]
  },
  {
   "cell_type": "markdown",
   "metadata": {},
   "source": [
    "**How to use checkmol**\n",
    "* create a list of sdf files to be created (`idac_{}.mol2`, where `{}` is its row number)\n",
    "* create oemol structure and save to its respective `.mol2` file\n",
    "* use checkmol to read `.mol2` files and figure out functional groups\n",
    "* add them to list and analyze."
   ]
  },
  {
   "cell_type": "code",
   "execution_count": 6,
   "metadata": {},
   "outputs": [],
   "source": [
    "names = ['idac_{}.mol2'.format(i) for i in range(len(results))]"
   ]
  },
  {
   "cell_type": "code",
   "execution_count": 7,
   "metadata": {},
   "outputs": [],
   "source": [
    "results[\"filename\"] = names\n",
    "for i, row in results.iterrows():\n",
    "    mol = smiles_to_oemol(row[\"Solute SMILES\"])\n",
    "    oechem.OETriposAtomNames(mol)\n",
    "    mol = generate_conformers(mol,max_confs=800,strictStereo=True)\n",
    "    for j, conf in enumerate(mol.GetConfs()):\n",
    "        if j > 0:\n",
    "            mol.DeleteConf(conf)\n",
    "    molecule_to_mol2(mol,tripos_mol2_filename=row[\"filename\"])"
   ]
  },
  {
   "cell_type": "code",
   "execution_count": 15,
   "metadata": {},
   "outputs": [],
   "source": [
    "functional_grps = []\n",
    "for name in names:\n",
    "    descriptors = get_checkmol_descriptors(name,executable_name = 'checkmol')[0]\n",
    "    functional_grps.append(descriptors)"
   ]
  },
  {
   "cell_type": "code",
   "execution_count": 16,
   "metadata": {},
   "outputs": [],
   "source": [
    "results[\"functional groups\"] = functional_grps"
   ]
  },
  {
   "cell_type": "code",
   "execution_count": 19,
   "metadata": {},
   "outputs": [
    {
     "name": "stdout",
     "output_type": "stream",
     "text": [
      "['sulfoxide', 'primary alcohol', 'dialkyl ether', '', 'alkene', 'primary amine', 'primary aliphatic amine (alkylamine)', 'alkyl chloride', 'tertiary alcohol', 'aromatic compound', 'aldehyde', 'thiol (sulfanyl compound)', 'alkylthiol', 'ketone', 'secondary alcohol', 'alkyl fluoride', 'carbonic acid diester', 'carboxylic acid ester', 'halogen derivative', 'aryl fluoride', 'heterocyclic compound', 'thioether', 'aryl chloride', 'secondary amine', 'secondary aliphatic amine (dialkylamine)', '1,2-diol', 'carbonitrile', 'alkyne']\n"
     ]
    }
   ],
   "source": [
    "total_groups = []\n",
    "for group_list in functional_grps:\n",
    "    for group in group_list:\n",
    "        if group not in total_groups:\n",
    "            total_groups.append(group)\n",
    "        else: continue\n",
    "print(total_groups)"
   ]
  },
  {
   "cell_type": "code",
   "execution_count": 20,
   "metadata": {},
   "outputs": [
    {
     "name": "stdout",
     "output_type": "stream",
     "text": [
      "['1,1,2,2-tetrachloroethylene', 'pyridine', 'benzene', '4-methylpyridine', 'styrene', '3-methylpyridine', '2-methylpyridine', 'water', 'toluene', 'm-xylene', 'formamide', 'o-xylene', 'cyclohepta-1,3,5-triene', 'p-xylene', 'octan-2-one', 'methanol', 'dodecanoic acid', 'decanoic acid', '1-isopropyl-4-methyl-benzene', '2,6-dimethylpyridine', 'tetradecanoic acid', 'cyclohexene', 'hexa-1,5-diene', 'cyclopentene', 'methylcyclopentane', 'hex-1-ene', 'ethylene glycol', '2,4,4-trimethylpent-1-ene', 'cyclooctane', 'methylcyclohexane', '2,2,4-trimethylpentane', '2-(2-hydroxyethoxy)ethanol', 'hexane', 'propane-1,3-diol', 'dodecan-1-ol', 'decan-1-ol']\n"
     ]
    }
   ],
   "source": [
    "solvents = []\n",
    "for solvent in results[\"Solvent name\"]:\n",
    "    if solvent not in solvents:\n",
    "        solvents.append(solvent)\n",
    "print(solvents)"
   ]
  },
  {
   "cell_type": "markdown",
   "metadata": {},
   "source": [
    "**Next steps:**\n",
    "* Identify activities containing each functional group/solvent\n",
    "* Plot points and calculate how far it is from the center curve"
   ]
  },
  {
   "cell_type": "code",
   "execution_count": 21,
   "metadata": {},
   "outputs": [],
   "source": [
    "def functional_group_statistics(xdata, ydata, xerror, yerror):\n",
    "    data = t.stats_array(ydata, xdata, np.zeros(len(xdata)),\n",
    "                         100, noise=False)\n",
    "    mean_bias_error = (data[0][0], data[0][1])    \n",
    "    root_mean_square = (data[1][0], data[1][1])\n",
    "    mean_absolute_error = (data[2][0], data[2][1])\n",
    "    \n",
    "    return mean_absolute_error, root_mean_square, mean_bias_error\n",
    "\n",
    "def plot_per_functional_group(grp, entry, dataframe):\n",
    "    xgrp = []\n",
    "    xgrperr = []\n",
    "    ygrp = []\n",
    "    ygrperr = []\n",
    "    for i, row in dataframe.iterrows():\n",
    "        if grp in row[entry]:\n",
    "            xgrp.append(row[\"kT log(gamma)_expt (kcal/mol)\"])\n",
    "            xgrperr.append(row[\"kT log(gamma)_expt, error (kcal/mol)\"])\n",
    "            ygrp.append(row[\"kT log(gamma)_calc (kcal/mol)\"])\n",
    "            ygrperr.append(row[\"kT log(gamma)_calc, error (kcal/mol)\"])\n",
    "\n",
    "    # Stats\n",
    "    mae, rms, mbe = functional_group_statistics(xgrp, ygrp, \n",
    "                                                xgrperr, ygrperr)\n",
    "    \n",
    "    textstring = r\"AE = {:.1f}$\\pm${:.1f} \".format(mbe[0], mbe[1])\n",
    "    textstring += r\"$kcal\\cdot mol^{-1}$\"\n",
    "    \n",
    "    # Plot\n",
    "    fig = plt.figure(figsize=(3.5,3.5))\n",
    "    ax = fig.add_subplot(111)\n",
    "    points = ax.errorbar(dataframe[\"kT log(gamma)_expt (kcal/mol)\"], \n",
    "                         dataframe[\"kT log(gamma)_calc (kcal/mol)\"],\n",
    "                         xerr=dataframe[\"kT log(gamma)_expt, error (kcal/mol)\"], \n",
    "                         yerr=dataframe[\"kT log(gamma)_calc, error (kcal/mol)\"],\n",
    "                         fmt='o', markersize=6, color='darkorange', markeredgewidth=1.0, markeredgecolor='k',\n",
    "                         label='_nolegend_')\n",
    "    selected = ax.errorbar(xgrp, ygrp, xerr=xgrperr, yerr=ygrperr, fmt='g*', markersize=12,\n",
    "                           markeredgewidth=1.0, markeredgecolor='k',\n",
    "                           label=r\"{}\".format(grp))\n",
    "    \n",
    "    props = dict(boxstyle='round', facecolor='white', alpha=0.5)\n",
    "    ax.text(0.05, 0.95, textstring, transform=ax.transAxes,\n",
    "           fontsize=8, verticalalignment='top', bbox=props)\n",
    "    x = np.arange(-20.,20.,1) # define diagonal\n",
    "\n",
    "    ax.plot(x, x,'k-', lw=3)\n",
    "    ax.plot(x+0.5,x-0.5,'k:',label=r\"$y=x\\pm1.0\\,kcal\\cdot mol^{-1}$\")\n",
    "    ax.plot(x-0.5,x+0.5,'k:')\n",
    "    ax.set_xlim([-5.0,11.0])\n",
    "    ax.set_ylim([-5.0,11.0])\n",
    "    ax.set_xlabel(r\"$k_BT\\ln{\\gamma_{expt}}$ ($kcal\\cdot mol^{-1}$)\", fontsize=8)\n",
    "    ax.set_ylabel(r\"$k_BT\\ln{\\gamma_{calc}}$ ($kcal\\cdot mol^{-1}$)\", fontsize=8)\n",
    "    ax.legend(loc=4, prop={\"size\":8})\n",
    "    plt.tight_layout()\n",
    "    filename = grp.split(\" \")\n",
    "    plt.savefig(\"{}_expt_x_calc_kTlog_gamma.pdf\".format(\"_\".join(filename)))\n",
    "    plt.close()\n",
    "    "
   ]
  },
  {
   "cell_type": "code",
   "execution_count": 22,
   "metadata": {},
   "outputs": [
    {
     "data": {
      "text/plain": [
       "['sulfoxide',\n",
       " 'primary alcohol',\n",
       " 'dialkyl ether',\n",
       " '',\n",
       " 'alkene',\n",
       " 'primary amine',\n",
       " 'primary aliphatic amine (alkylamine)',\n",
       " 'alkyl chloride',\n",
       " 'tertiary alcohol',\n",
       " 'aromatic compound',\n",
       " 'aldehyde',\n",
       " 'thiol (sulfanyl compound)',\n",
       " 'alkylthiol',\n",
       " 'ketone',\n",
       " 'secondary alcohol',\n",
       " 'alkyl fluoride',\n",
       " 'carbonic acid diester',\n",
       " 'carboxylic acid ester',\n",
       " 'halogen derivative',\n",
       " 'aryl fluoride',\n",
       " 'heterocyclic compound',\n",
       " 'thioether',\n",
       " 'aryl chloride',\n",
       " 'secondary amine',\n",
       " 'secondary aliphatic amine (dialkylamine)',\n",
       " '1,2-diol',\n",
       " 'carbonitrile',\n",
       " 'alkyne']"
      ]
     },
     "execution_count": 22,
     "metadata": {},
     "output_type": "execute_result"
    }
   ],
   "source": [
    "total_groups"
   ]
  },
  {
   "cell_type": "code",
   "execution_count": 23,
   "metadata": {},
   "outputs": [],
   "source": [
    "interesting_group_names = []\n",
    "entry = \"functional groups\"\n",
    "for elem in total_groups:\n",
    "    i = 0\n",
    "    for j, row in results.iterrows():\n",
    "        if elem in row[\"functional groups\"]:\n",
    "            i+=1\n",
    "        else: continue\n",
    "    if i <= 5: continue\n",
    "    else:\n",
    "        interesting_group_names.append(elem)\n",
    "        plot_per_functional_group(elem, entry, results)\n"
   ]
  },
  {
   "cell_type": "code",
   "execution_count": 24,
   "metadata": {},
   "outputs": [],
   "source": [
    "interesting_solvents = []\n",
    "entry = \"Solvent name\"\n",
    "for elem in solvents:\n",
    "    i = 0\n",
    "    for j, row in results.iterrows():\n",
    "        if elem in row[\"Solvent name\"]:\n",
    "            i+=1\n",
    "        else: continue\n",
    "    if i <= 5: continue\n",
    "    else:\n",
    "        interesting_solvents.append(elem)\n",
    "        plot_per_functional_group(elem, entry, results)\n",
    "        "
   ]
  },
  {
   "cell_type": "code",
   "execution_count": 25,
   "metadata": {},
   "outputs": [
    {
     "name": "stderr",
     "output_type": "stream",
     "text": [
      "/Users/guilhermematos/anaconda/envs/dev/lib/python3.6/site-packages/scipy/stats/stats.py:3003: RuntimeWarning: invalid value encountered in double_scalars\n",
      "  r = r_num / r_den\n",
      "/Users/guilhermematos/Documents/ActivityCoefficients/data-analysis/IDAC_SI_code_and_data/tools.py:55: RuntimeWarning: invalid value encountered in double_scalars\n",
      "  corr = num/denom\n"
     ]
    },
    {
     "name": "stdout",
     "output_type": "stream",
     "text": [
      "['sulfoxide', 'primary alcohol', 'dialkyl ether', 'alkane', 'alkene', 'primary amine', 'alkyl chloride', 'aromatic compound', 'aldehyde', 'ketone', 'secondary alcohol', 'alkyl fluoride', 'carboxylic acid ester']\n"
     ]
    },
    {
     "data": {
      "image/png": "[encoded data removed]",
      "text/plain": [
       "<Figure size 504x288 with 1 Axes>"
      ]
     },
     "metadata": {},
     "output_type": "display_data"
    }
   ],
   "source": [
    "# Plot average unsigned and signed error for each functional group\n",
    "# with 5 or more points\n",
    "entry = \"functional groups\"\n",
    "grp = []\n",
    "aue = []\n",
    "aue_unc = []\n",
    "ase = []\n",
    "ase_unc = []\n",
    "\n",
    "for elem in interesting_group_names:\n",
    "    \n",
    "    xgrp = []\n",
    "    xgrperr = []\n",
    "    ygrp = []\n",
    "    ygrperr = []\n",
    "    \n",
    "    for i, row in results.iterrows():\n",
    "        if len(elem) == 0:\n",
    "            name = 'alkane'\n",
    "        else: \n",
    "            name = elem\n",
    "        if elem in row[entry]:\n",
    "            xgrp.append(row[\"kT log(gamma)_expt (kcal/mol)\"])\n",
    "            xgrperr.append(row[\"kT log(gamma)_expt, error (kcal/mol)\"])\n",
    "            ygrp.append(row[\"kT log(gamma)_calc (kcal/mol)\"])\n",
    "            ygrperr.append(row[\"kT log(gamma)_calc, error (kcal/mol)\"])\n",
    "\n",
    "    # Stats\n",
    "    mae, rms, mbe = functional_group_statistics(xgrp, ygrp, \n",
    "                                                xgrperr, ygrperr)\n",
    "    grp.append(name)\n",
    "    aue.append(mae[0])\n",
    "    aue_unc.append(mae[1])\n",
    "    ase.append(abs(mbe[0]))\n",
    "    ase_unc.append(abs(mbe[1]))\n",
    "\n",
    "# Remove repeated functional group\n",
    "grp.pop(6)\n",
    "aue.pop(6)\n",
    "aue_unc.pop(6)\n",
    "ase.pop(6)\n",
    "ase_unc.pop(6)\n",
    "\n",
    "# Plot\n",
    "fig = plt.figure(figsize=(7.0,4.0))\n",
    "\n",
    "ax = fig.add_subplot(111)\n",
    "ax.bar(grp, ase, yerr=ase_unc)\n",
    "ax.set_ylabel(r\"|AE| (kcal$\\cdot$ mol$^{-1}$)\", fontsize=10)\n",
    "plt.xticks(rotation='vertical')\n",
    "plt.tight_layout()\n",
    "plt.savefig(\"absolute_average_error_per_functional_group.pdf\")\n",
    "\n",
    "print(grp)"
   ]
  },
  {
   "cell_type": "code",
   "execution_count": 26,
   "metadata": {},
   "outputs": [
    {
     "name": "stdout",
     "output_type": "stream",
     "text": [
      "['pyridine', 'benzene', 'styrene', 'water', 'toluene', 'm-xylene', 'formamide', 'o-xylene', 'p-xylene', 'methanol', 'dodecanoic acid', 'decanoic acid', 'tetradecanoic acid', 'ethylene glycol', 'diethylene glycol']\n"
     ]
    },
    {
     "data": {
      "image/png": "[encoded data removed]",
      "text/plain": [
       "<Figure size 504x288 with 1 Axes>"
      ]
     },
     "metadata": {},
     "output_type": "display_data"
    }
   ],
   "source": [
    "# Plot average unsigned and signed error for each functional group\n",
    "# with 5 or more points\n",
    "entry = \"Solvent name\"\n",
    "grp = []\n",
    "aue = []\n",
    "aue_unc = []\n",
    "ase = []\n",
    "ase_unc = []\n",
    "\n",
    "for elem in interesting_solvents:\n",
    "    \n",
    "    xgrp = []\n",
    "    xgrperr = []\n",
    "    ygrp = []\n",
    "    ygrperr = []\n",
    "    \n",
    "    for i, row in results.iterrows():\n",
    "        if len(elem) == 0:\n",
    "            name = 'alkane'\n",
    "        elif elem == '2-(2-hydroxyethoxy)ethanol':\n",
    "            name = 'diethylene glycol'\n",
    "        else: \n",
    "            name = elem\n",
    "        if elem in row[entry]:\n",
    "            xgrp.append(row[\"kT log(gamma)_expt (kcal/mol)\"])\n",
    "            xgrperr.append(row[\"kT log(gamma)_expt, error (kcal/mol)\"])\n",
    "            ygrp.append(row[\"kT log(gamma)_calc (kcal/mol)\"])\n",
    "            ygrperr.append(row[\"kT log(gamma)_calc, error (kcal/mol)\"])\n",
    "\n",
    "    # Stats\n",
    "    mae, rms, mbe = functional_group_statistics(xgrp, ygrp, \n",
    "                                                xgrperr, ygrperr)\n",
    "    grp.append(name)\n",
    "    aue.append(mae[0])\n",
    "    aue_unc.append(mae[1])\n",
    "    ase.append(abs(mbe[0]))\n",
    "    ase_unc.append(abs(mbe[1]))\n",
    "\n",
    "# Plot\n",
    "fig = plt.figure(figsize=(7.0,4.0))\n",
    "\n",
    "ax = fig.add_subplot(111)\n",
    "ax.bar(grp, ase, yerr=ase_unc)\n",
    "ax.set_ylabel(r\"|AE| (kcal$\\cdot$ mol$^{-1}$)\", fontsize=10)\n",
    "plt.xticks(rotation='vertical')\n",
    "plt.tight_layout()\n",
    "plt.savefig(\"absolute_average_error_per_solvent.pdf\")\n",
    "\n",
    "print(grp)"
   ]
  },
  {
   "cell_type": "code",
   "execution_count": 27,
   "metadata": {},
   "outputs": [
    {
     "name": "stdout",
     "output_type": "stream",
     "text": [
      "Max rotors: 13\n",
      "Rotorcount distribution:\n",
      "\t0:\t124\n",
      "\t1:\t40\n",
      "\t2:\t25\n",
      "\t3:\t15\n",
      "\t4:\t16\n",
      "\t5:\t8\n",
      "\t6:\t5\n",
      "\t7:\t2\n",
      "\t8:\t1\n",
      "\t9:\t0\n",
      "\t10:\t0\n",
      "\t11:\t0\n",
      "\t12:\t0\n",
      "\t13:\t1\n"
     ]
    }
   ],
   "source": [
    "# rotatable bonds in the set\n",
    "rotcounts = []\n",
    "for mol in results.Molecule:\n",
    "    nrots = oechem.OECount(mol, oechem.OEIsRotor())\n",
    "    #print(nrots, oechem.OEMolToSmiles(mol))\n",
    "    while nrots >= len(rotcounts):\n",
    "        rotcounts.append(0)\n",
    "    rotcounts[nrots] += 1\n",
    "\n",
    "print(\"Max rotors: {}\".format(len(rotcounts)-1))\n",
    "print(\"Rotorcount distribution:\")\n",
    "for rots, numrot in enumerate(rotcounts):\n",
    "    print(\"\\t{}:\\t{}\".format(rots, numrot))"
   ]
  },
  {
   "cell_type": "code",
   "execution_count": 28,
   "metadata": {},
   "outputs": [
    {
     "name": "stdout",
     "output_type": "stream",
     "text": [
      "max: 226.44\t min: 32.04\n"
     ]
    }
   ],
   "source": [
    "# Molecular weights in the set\n",
    "molweights = []\n",
    "for mol in results.Molecule:\n",
    "    mw = oechem.OECalculateMolecularWeight(mol)\n",
    "    molweights.append(mw)\n",
    "    \n",
    "print(\"max: {:.2f}\\t min: {:.2f}\".format(np.array(molweights).max(),np.array(molweights).min()))"
   ]
  },
  {
   "cell_type": "code",
   "execution_count": 29,
   "metadata": {},
   "outputs": [
    {
     "data": {
      "text/plain": [
       "Index(['Molecule', 'Solvent MW', 'Solute ID', 'Solute molar density',\n",
       "       'kT log(gamma)_calc (kcal/mol)', 'Solvent density', 'Solute SMILES',\n",
       "       'Solute name', 'Solute molar density error',\n",
       "       'Solvent molar density error', 'Solvent',\n",
       "       'kT log(gamma)_calc, error (kcal/mol)', 'Solvent density error',\n",
       "       'dDG_solv (kcal/mol)', 'kT log(gamma)_expt, error (kcal/mol)',\n",
       "       'Solute density', 'Solute MW', 'kT log(gamma)_expt (kcal/mol)',\n",
       "       'DG_solv (kcal/mol)', 'Solute density error', 'Solvent molar density',\n",
       "       'DG_self_solv (kcal/mol)', 'Temperature (K)', 'Solvent ID',\n",
       "       'expt IDAC, error', 'dDG_self_solv (kcal/mol)', 'expt IDAC',\n",
       "       'Solvent name', 'Solvent SMILES', 'filename', 'functional groups'],\n",
       "      dtype='object')"
      ]
     },
     "execution_count": 29,
     "metadata": {},
     "output_type": "execute_result"
    }
   ],
   "source": [
    "results.columns"
   ]
  },
  {
   "cell_type": "code",
   "execution_count": 30,
   "metadata": {},
   "outputs": [],
   "source": [
    "# select = results[results['kT log(gamma)_calc (kcal/mol)'] < 0.5]\n",
    "# select = select[select['kT log(gamma)_calc (kcal/mol)'] > -0.5]"
   ]
  },
  {
   "cell_type": "code",
   "execution_count": 31,
   "metadata": {},
   "outputs": [],
   "source": [
    "# near_zero = len(select)\n",
    "# print(near_zero)"
   ]
  },
  {
   "cell_type": "code",
   "execution_count": 32,
   "metadata": {},
   "outputs": [],
   "source": [
    "#select[['Solute SMILES','Solvent SMILES']]"
   ]
  },
  {
   "cell_type": "code",
   "execution_count": 33,
   "metadata": {},
   "outputs": [],
   "source": [
    "#for string in select['Solvent SMILES']:\n",
    "#    print(string)"
   ]
  },
  {
   "cell_type": "code",
   "execution_count": 34,
   "metadata": {},
   "outputs": [],
   "source": [
    "#for string in select['Solute SMILES']:\n",
    "#    print(string)"
   ]
  },
  {
   "cell_type": "code",
   "execution_count": 35,
   "metadata": {},
   "outputs": [],
   "source": [
    "# Store shift variance for each solvent\n",
    "# with 5 or more points\n",
    "entry = \"Solvent name\"\n",
    "\n",
    "solv_vars = {}\n",
    "for elem in interesting_solvents:\n",
    "    \n",
    "    xgrp = []\n",
    "    xgrperr = []\n",
    "    ygrp = []\n",
    "    ygrperr = []\n",
    "    \n",
    "    for i, row in results.iterrows():\n",
    "        if len(elem) == 0:\n",
    "            name = 'alkane'\n",
    "        elif elem == '2-(2-hydroxyethoxy)ethanol':\n",
    "            name = 'diethylene glycol'\n",
    "        else: \n",
    "            name = elem\n",
    "        if elem in row[entry]:\n",
    "            xgrp.append(row[\"kT log(gamma)_expt (kcal/mol)\"])\n",
    "            xgrperr.append(row[\"kT log(gamma)_expt, error (kcal/mol)\"])\n",
    "            ygrp.append(row[\"kT log(gamma)_calc (kcal/mol)\"])\n",
    "            ygrperr.append(row[\"kT log(gamma)_calc, error (kcal/mol)\"])\n",
    "\n",
    "    # Stats\n",
    "    mae, rms, mbe = functional_group_statistics(xgrp, ygrp, \n",
    "                                                xgrperr, ygrperr)\n",
    "    if abs(mbe[0]) > 0.3:\n",
    "        solv_vars[elem] = (mbe[0],mbe[1]**2)\n",
    "    else:\n",
    "        continue"
   ]
  },
  {
   "cell_type": "code",
   "execution_count": 36,
   "metadata": {},
   "outputs": [],
   "source": [
    "# Store shift variance for each solute\n",
    "# with 5 or more points\n",
    "\n",
    "# Make list of all solutes\n",
    "solutes = []\n",
    "for solute in results[\"Solute SMILES\"]:\n",
    "    if solute not in solutes:\n",
    "        solutes.append(solute)\n",
    "\n",
    "# Choose solutes with 5 or more points\n",
    "entry = \"Solute SMILES\"\n",
    "interesting_solutes = []\n",
    "for elem in solutes:\n",
    "    i = 0\n",
    "    for j, row in results.iterrows():\n",
    "        if elem in row[\"Solute SMILES\"]:\n",
    "            i+=1\n",
    "        else: continue\n",
    "    if i <= 5: continue\n",
    "    else:\n",
    "        interesting_solutes.append(elem)\n",
    "\n",
    "# Store values\n",
    "solu_vars = {}\n",
    "for elem in interesting_solutes:\n",
    "    \n",
    "    xgrp = []\n",
    "    xgrperr = []\n",
    "    ygrp = []\n",
    "    ygrperr = []\n",
    "    \n",
    "    for i, row in results.iterrows():\n",
    "        if elem in row[entry]:\n",
    "            xgrp.append(row[\"kT log(gamma)_expt (kcal/mol)\"])\n",
    "            xgrperr.append(row[\"kT log(gamma)_expt, error (kcal/mol)\"])\n",
    "            ygrp.append(row[\"kT log(gamma)_calc (kcal/mol)\"])\n",
    "            ygrperr.append(row[\"kT log(gamma)_calc, error (kcal/mol)\"])\n",
    "\n",
    "    # Stats\n",
    "    mae, rms, mbe = functional_group_statistics(xgrp, ygrp, xgrperr, ygrperr)\n",
    "    if abs(mbe[0]) > 0.3:\n",
    "        solu_vars[elem] = (mbe[0],mbe[1]**2)\n",
    "    else:\n",
    "        continue"
   ]
  },
  {
   "cell_type": "code",
   "execution_count": 37,
   "metadata": {},
   "outputs": [
    {
     "name": "stdout",
     "output_type": "stream",
     "text": [
      "{'CS(=O)C': (1.432272375541111, 0.042047804492591656), 'CCCCCC=C': (0.33058450062128564, 0.08219394719375146), 'CC(F)F': (-0.4494096370664167, 0.002665171580313454), 'CCCCCCC': (0.44579713510161106, 0.03777271511502224), 'CCCCC=C': (0.32245005499390905, 0.04448286821891253), 'CCCCCCCC': (0.43892580702915385, 0.06438816666522205), 'CCCCCCCCC': (0.6703613788812858, 0.12901574492466147)}\n",
      "  \n",
      "{'water': (0.45166241655784084, 0.0170342859382994), 'formamide': (-0.47157827949857134, 0.027193113817068414), 'methanol': (-0.6508853382011429, 0.05956305598491433), 'decanoic acid': (-0.3298265960496035, 0.016187312791219995), 'tetradecanoic acid': (-0.5828579621451727, 0.09374028313970705), '2-(2-hydroxyethoxy)ethanol': (0.8836008333154546, 0.022622988319147653)}\n"
     ]
    }
   ],
   "source": [
    "print(solu_vars)\n",
    "print(\"  \")\n",
    "print(solv_vars)"
   ]
  },
  {
   "cell_type": "code",
   "execution_count": 38,
   "metadata": {},
   "outputs": [],
   "source": [
    "solvent_oemol = []\n",
    "for smiles in results['Solvent SMILES']:\n",
    "    mol = oechem.OEMol()\n",
    "    if not oechem.OEParseSmiles(mol, smiles):\n",
    "        raise ValueError(\"The supplied SMILES '%s' could not be parsed.\" % smiles)\n",
    "        break\n",
    "    else:\n",
    "        solvent_oemol.append(mol)"
   ]
  },
  {
   "cell_type": "code",
   "execution_count": 39,
   "metadata": {},
   "outputs": [
    {
     "name": "stdout",
     "output_type": "stream",
     "text": [
      "max: 228.37\t min: 18.02\n"
     ]
    }
   ],
   "source": [
    "# Molecular weights in the solvent set\n",
    "molweights = []\n",
    "for mol in solvent_oemol:\n",
    "    mw = oechem.OECalculateMolecularWeight(mol)\n",
    "    molweights.append(mw)\n",
    "    \n",
    "print(\"max: {:.2f}\\t min: {:.2f}\".format(np.array(molweights).max(),np.array(molweights).min()))"
   ]
  },
  {
   "cell_type": "code",
   "execution_count": 40,
   "metadata": {},
   "outputs": [
    {
     "name": "stdout",
     "output_type": "stream",
     "text": [
      "Max rotors: 12\n",
      "Rotorcount distribution:\n",
      "\t0:\t156\n",
      "\t1:\t25\n",
      "\t2:\t5\n",
      "\t3:\t5\n",
      "\t4:\t11\n",
      "\t5:\t4\n",
      "\t6:\t0\n",
      "\t7:\t0\n",
      "\t8:\t9\n",
      "\t9:\t0\n",
      "\t10:\t11\n",
      "\t11:\t0\n",
      "\t12:\t11\n"
     ]
    }
   ],
   "source": [
    "# rotatable bonds in the set\n",
    "rotcounts = []\n",
    "for mol in solvent_oemol:\n",
    "    nrots = oechem.OECount(mol, oechem.OEIsRotor())\n",
    "    while nrots >= len(rotcounts):\n",
    "        rotcounts.append(0)\n",
    "    rotcounts[nrots] += 1\n",
    "\n",
    "print(\"Max rotors: {}\".format(len(rotcounts)-1))\n",
    "print(\"Rotorcount distribution:\")\n",
    "for rots, numrot in enumerate(rotcounts):\n",
    "    print(\"\\t{}:\\t{}\".format(rots, numrot))"
   ]
  },
  {
   "cell_type": "code",
   "execution_count": 1,
   "metadata": {},
   "outputs": [],
   "source": [
    "!open ."
   ]
  },
  {
   "cell_type": "code",
   "execution_count": null,
   "metadata": {},
   "outputs": [],
   "source": []
  }
 ],
 "metadata": {
  "kernelspec": {
   "display_name": "Python 3",
   "language": "python",
   "name": "python3"
  },
  "language_info": {
   "codemirror_mode": {
    "name": "ipython",
    "version": 3
   },
   "file_extension": ".py",
   "mimetype": "text/x-python",
   "name": "python",
   "nbconvert_exporter": "python",
   "pygments_lexer": "ipython3",
   "version": "3.6.5"
  }
 },
 "nbformat": 4,
 "nbformat_minor": 2
}
