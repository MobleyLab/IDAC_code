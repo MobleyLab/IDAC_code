{
 "cells": [
  {
   "cell_type": "code",
   "execution_count": null,
   "metadata": {},
   "outputs": [],
   "source": [
    "# Import general modules\n",
    "import pandas as pd\n",
    "\n",
    "# Import chemistry-related modules\n",
    "import oenotebook as oenb\n",
    "from openeye.oechem import *\n",
    "from openmoltools.openeye import *"
   ]
  },
  {
   "cell_type": "code",
   "execution_count": null,
   "metadata": {},
   "outputs": [],
   "source": [
    "data = pd.read_pickle(\"correct_systems_and_thermoML_activities.pickle\")"
   ]
  },
  {
   "cell_type": "markdown",
   "metadata": {},
   "source": [
    "**Strategy:**\n",
    "\n",
    "1. Each oeb file will have all molecules in a certain solvent at a certain temperature and pressure.\n",
    "2. Create list of solvents.\n",
    "3. Create sub-dataframes per solvent.\n",
    "4. For each solvent, check temperatures and create sub-dataframes for each.\n",
    "5. For each final sub-dataframe, create one oeb file.\n",
    "\n",
    "**Dr Mobley's comment:** Initially try to make a single oeb file with all the compounds. Dividing too much defeats the purpose of using Orion.\n",
    "\n",
    "** How to calculate infinite dilution activity coefficients: **\n",
    "\n",
    "$k_BT \\ln{\\gamma_{solute}^{\\infty}} = \\mu_{solute}^{excess} - \\mu_{solute\\;molecule}^{excess;\\;bulk\\,solute} \\Leftrightarrow $\n",
    "\n",
    "$k_BT \\ln{\\gamma_{solute}^{\\infty}} = \\Delta G_{solute}^{solvation} - \\Delta G_{solute\\;molecule}^{solvation,\\;bulk\\,solute}$\n",
    "\n",
    "**Important:**\n",
    "\n",
    "Create mol objects with the atoms of the molecule in question -- forcefield details will be dealt with later -- attach SD tags below to them and ofstream them to an .oeb file. Instructions can be found at:\n",
    "\n",
    "`https://docs.eyesopen.com/toolkits/python/oechemtk/molreadwrite.html`\n",
    "\n",
    "`https://docs.eyesopen.com/toolkits/python/oechemtk/moltaggeddata.html`\n",
    "\n",
    "**Tags:**\n",
    "\n",
    "``` tags = [\"solvents\",\"molar_fractions\",\"density\",\"temperature\",\"pressure\"]```"
   ]
  },
  {
   "cell_type": "markdown",
   "metadata": {},
   "source": [
    "SD tags already added to oemol objects are erased in `oenb.write_dataframe_to_file(args*)`. You should create a new dataframe in which the oemol objects are in the first column and the SD tags in the remaining ones."
   ]
  },
  {
   "cell_type": "code",
   "execution_count": null,
   "metadata": {},
   "outputs": [],
   "source": [
    "solutes = pd.DataFrame()\n",
    "solutes[\"Molecule\"] = [smiles_to_oemol(x) for x in data.Solute_SMILES]\n",
    "solutes[\"solvents\"] = [ x for x in data.Solvent_SMILES ]\n",
    "solutes[\"molar_fractions\"] = [ '1.0' for x in data.Solvent_SMILES ]\n",
    "solutes[\"density\"] = [ '1.0' for x in data.Solvent_SMILES ]\n",
    "solutes[\"temperature\"] = [ x for x in data[\"Temperature, K\"]]\n",
    "solutes[\"pressure\"] = [ '1.0' for x in data.Solvent_SMILES ]"
   ]
  },
  {
   "cell_type": "code",
   "execution_count": null,
   "metadata": {},
   "outputs": [],
   "source": [
    "# Fix water molecule SMILES to the OpenEye format \n",
    "solvs = []\n",
    "for elem in solutes.solvents:\n",
    "    if elem =='O':\n",
    "        solvs.append('[H]O[H]')\n",
    "    else:\n",
    "        solvs.append(elem)\n",
    "solutes[\"solvents\"] = solvs\n",
    "\n",
    "# Generate structures\n",
    "mols = []\n",
    "for i in range(len(solutes)):\n",
    "    mol = solutes.Molecule[i]\n",
    "    OETriposAtomNames(mol)\n",
    "    mol = normalize_molecule(mol)\n",
    "    mol = generate_conformers(mol,max_confs=800,strictStereo=False)\n",
    "    for j, conf in enumerate(mol.GetConfs()):\n",
    "        if j > 0:\n",
    "            mol.DeleteConf(conf)\n",
    "    mols.append(mol)\n",
    "solutes[\"Molecule\"] = mols"
   ]
  },
  {
   "cell_type": "code",
   "execution_count": null,
   "metadata": {},
   "outputs": [],
   "source": [
    "# Preparing input files for the second simulation\n",
    "self_solv = pd.DataFrame()\n",
    "self_solv[\"Molecule\"] = [smiles_to_oemol(x) for x in data.Solute_SMILES]\n",
    "self_solv[\"solvents\"] = [ x for x in data.Solute_SMILES ]\n",
    "self_solv[\"molar_fractions\"] = [ '1.0' for x in data.Solute_SMILES ]\n",
    "self_solv[\"density\"] = [ '1.0' for x in data.Solute_SMILES ]\n",
    "self_solv[\"temperature\"] = [ x for x in data[\"Temperature, K\"]]\n",
    "self_solv[\"pressure\"] = [ '1.0' for x in data.Solute_SMILES ]"
   ]
  },
  {
   "cell_type": "code",
   "execution_count": null,
   "metadata": {},
   "outputs": [],
   "source": [
    "# Generate structures for self_solv\n",
    "mols = []\n",
    "for i in range(len(self_solv)):\n",
    "    mol = self_solv.Molecule[i]\n",
    "    OETriposAtomNames(mol)\n",
    "    mol = normalize_molecule(mol)\n",
    "    mol = generate_conformers(mol,max_confs=800,strictStereo=False)\n",
    "    for j, conf in enumerate(mol.GetConfs()):\n",
    "        if j > 0:\n",
    "            mol.DeleteConf(conf)\n",
    "    mols.append(mol)\n",
    "self_solv[\"Molecule\"] = mols"
   ]
  },
  {
   "cell_type": "code",
   "execution_count": null,
   "metadata": {},
   "outputs": [],
   "source": [
    "oenb.write_dataframe_to_file(solutes, \"solute_solvation_input.oeb\")\n",
    "pd.to_pickle(solutes,\"solute_solvation_input.pickle\")\n",
    "oenb.write_dataframe_to_file(self_solv, \"solute_self_solvation_input.oeb\")\n",
    "pd.to_pickle(self_solv,\"solute_self_solvation_input.pickle\")"
   ]
  },
  {
   "cell_type": "code",
   "execution_count": null,
   "metadata": {},
   "outputs": [],
   "source": []
  },
  {
   "cell_type": "code",
   "execution_count": null,
   "metadata": {},
   "outputs": [],
   "source": []
  },
  {
   "cell_type": "code",
   "execution_count": null,
   "metadata": {},
   "outputs": [],
   "source": []
  },
  {
   "cell_type": "code",
   "execution_count": null,
   "metadata": {},
   "outputs": [],
   "source": []
  },
  {
   "cell_type": "code",
   "execution_count": null,
   "metadata": {},
   "outputs": [],
   "source": []
  },
  {
   "cell_type": "code",
   "execution_count": null,
   "metadata": {},
   "outputs": [],
   "source": []
  }
 ],
 "metadata": {
  "kernelspec": {
   "display_name": "Python 3",
   "language": "python",
   "name": "python3"
  },
  "language_info": {
   "codemirror_mode": {
    "name": "ipython",
    "version": 3
   },
   "file_extension": ".py",
   "mimetype": "text/x-python",
   "name": "python",
   "nbconvert_exporter": "python",
   "pygments_lexer": "ipython3",
   "version": "3.6.5"
  }
 },
 "nbformat": 4,
 "nbformat_minor": 2
}
